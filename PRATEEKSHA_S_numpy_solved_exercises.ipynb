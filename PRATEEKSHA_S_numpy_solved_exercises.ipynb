{
  "cells": [
    {
      "cell_type": "markdown",
      "metadata": {
        "id": "NFGcCiA-5Z-8"
      },
      "source": [
        "# NumPy Practice\n",
        "\n",
        "This notebook offers a set of exercises for different tasks with NumPy.\n",
        "\n",
        "It should be noted there may be more than one different way to answer a question or complete an exercise.\n",
        "\n",
        "Exercises are based off (and directly taken from) the quick introduction to NumPy notebook.\n",
        "\n",
        "Different tasks will be detailed by comments or text.\n",
        "\n",
        "For further reference and resources, it's advised to check out the [NumPy documentation](https://numpy.org/devdocs/user/index.html).\n",
        "\n",
        "And if you get stuck, try searching for a question in the following format: \"how to do XYZ with numpy\", where XYZ is the function you want to leverage from NumPy."
      ]
    },
    {
      "cell_type": "code",
      "execution_count": 88,
      "metadata": {
        "id": "uZQ63Vil5Z-9"
      },
      "outputs": [],
      "source": [
        "# Import NumPy as its abbreviation 'np'\n",
        "import numpy as np"
      ]
    },
    {
      "cell_type": "code",
      "execution_count": 89,
      "metadata": {
        "colab": {
          "base_uri": "https://localhost:8080/"
        },
        "id": "bAZr8EPC5Z--",
        "outputId": "1d04017e-6ae8-4ec2-ed62-e210b56014f1"
      },
      "outputs": [
        {
          "output_type": "stream",
          "name": "stdout",
          "text": [
            "[1 2 3 4 5] \n",
            "\n",
            "[[1 2 3 4]\n",
            " [5 6 7 8]] \n",
            "\n",
            "[[[ 1  2  3]\n",
            "  [ 4  5  6]\n",
            "  [ 7  8  9]]\n",
            "\n",
            " [[11 22 33]\n",
            "  [44 55 66]\n",
            "  [77 88 99]]]\n"
          ]
        }
      ],
      "source": [
        "# Create a 1-dimensional NumPy array using np.array()\n",
        "arr = np.array([1,2,3,4,5])\n",
        "print(arr, \"\\n\")\n",
        "# Create a 2-dimensional NumPy array using np.array()\n",
        "arr2 = np.array([[1,2,3,4],[5,6,7,8]])\n",
        "print(arr2, \"\\n\")\n",
        "# Create a 3-dimensional Numpy array using np.array()\n",
        "arr3 = np.array([[[1,2,3],[4,5,6],[7,8,9]], [[11,22,33],[44,55,66],[77,88,99]]])\n",
        "print(arr3)"
      ]
    },
    {
      "cell_type": "markdown",
      "metadata": {
        "id": "NOx_nV0F5Z--"
      },
      "source": [
        "Now we've you've created 3 different arrays, let's find details about them.\n",
        "\n",
        "Find the shape, number of dimensions, data type, size and type of each array."
      ]
    },
    {
      "cell_type": "code",
      "execution_count": 90,
      "metadata": {
        "colab": {
          "base_uri": "https://localhost:8080/"
        },
        "id": "eLaCdrUo5Z-_",
        "outputId": "efeb5b06-6b14-4ca6-f3a0-75c12e480fa4"
      },
      "outputs": [
        {
          "output_type": "stream",
          "name": "stdout",
          "text": [
            "(5,)\n",
            "1\n",
            "int64\n",
            "5\n",
            "<class 'numpy.ndarray'>\n"
          ]
        }
      ],
      "source": [
        "# Attributes of 1-dimensional array (shape,\n",
        "# number of dimensions, data type, size and type)\n",
        "print(arr.shape)\n",
        "print(arr.ndim)\n",
        "print(arr.dtype)\n",
        "print(arr.size)\n",
        "print(type(arr))"
      ]
    },
    {
      "cell_type": "code",
      "execution_count": 91,
      "metadata": {
        "colab": {
          "base_uri": "https://localhost:8080/"
        },
        "id": "7HYDKjR35Z-_",
        "outputId": "9044cf7c-9237-4a80-b6da-0fe8108f048b"
      },
      "outputs": [
        {
          "output_type": "stream",
          "name": "stdout",
          "text": [
            "(2, 4)\n",
            "2\n",
            "int64\n",
            "8\n",
            "<class 'numpy.ndarray'>\n"
          ]
        }
      ],
      "source": [
        "# Attributes of 2-dimensional array\n",
        "print(arr2.shape)\n",
        "print(arr2.ndim)\n",
        "print(arr2.dtype)\n",
        "print(arr2.size)\n",
        "print(type(arr2))"
      ]
    },
    {
      "cell_type": "code",
      "execution_count": 92,
      "metadata": {
        "colab": {
          "base_uri": "https://localhost:8080/"
        },
        "id": "iLbEdRrZ5Z-_",
        "outputId": "b55feec8-5099-47af-b957-1b70381fd82d"
      },
      "outputs": [
        {
          "output_type": "stream",
          "name": "stdout",
          "text": [
            "(2, 3, 3)\n",
            "3\n",
            "int64\n",
            "18\n",
            "<class 'numpy.ndarray'>\n"
          ]
        }
      ],
      "source": [
        "# Attributes of 3-dimensional array\n",
        "print(arr3.shape)\n",
        "print(arr3.ndim)\n",
        "print(arr3.dtype)\n",
        "print(arr3.size)\n",
        "print(type(arr3))"
      ]
    },
    {
      "cell_type": "code",
      "execution_count": 93,
      "metadata": {
        "colab": {
          "base_uri": "https://localhost:8080/"
        },
        "id": "pf4hDWjp5Z-_",
        "outputId": "97a9b255-96de-43f6-dd68-02ed9a9324e2"
      },
      "outputs": [
        {
          "output_type": "stream",
          "name": "stdout",
          "text": [
            "[[1. 1.]\n",
            " [1. 1.]\n",
            " [1. 1.]\n",
            " [1. 1.]\n",
            " [1. 1.]\n",
            " [1. 1.]\n",
            " [1. 1.]\n",
            " [1. 1.]\n",
            " [1. 1.]\n",
            " [1. 1.]]\n"
          ]
        }
      ],
      "source": [
        "# Create an array of shape (10, 2) with only ones\n",
        "array = np.ones((10, 2))\n",
        "print(array)"
      ]
    },
    {
      "cell_type": "code",
      "execution_count": 94,
      "metadata": {
        "colab": {
          "base_uri": "https://localhost:8080/"
        },
        "id": "0gf-_oyq5Z-_",
        "outputId": "90babcf6-a828-45cd-8dc2-66ae072b02b6"
      },
      "outputs": [
        {
          "output_type": "stream",
          "name": "stdout",
          "text": [
            "[[[0. 0. 0.]\n",
            "  [0. 0. 0.]]\n",
            "\n",
            " [[0. 0. 0.]\n",
            "  [0. 0. 0.]]\n",
            "\n",
            " [[0. 0. 0.]\n",
            "  [0. 0. 0.]]\n",
            "\n",
            " [[0. 0. 0.]\n",
            "  [0. 0. 0.]]\n",
            "\n",
            " [[0. 0. 0.]\n",
            "  [0. 0. 0.]]\n",
            "\n",
            " [[0. 0. 0.]\n",
            "  [0. 0. 0.]]\n",
            "\n",
            " [[0. 0. 0.]\n",
            "  [0. 0. 0.]]]\n"
          ]
        }
      ],
      "source": [
        "# Create an array of shape (7, 2, 3) of only zeros\n",
        "array1 = np.zeros((7,2,3))\n",
        "print(array1)"
      ]
    },
    {
      "cell_type": "code",
      "execution_count": 95,
      "metadata": {
        "id": "FHBek5Ls5Z-_",
        "colab": {
          "base_uri": "https://localhost:8080/"
        },
        "outputId": "20d91c8d-7fc4-441f-f0f6-295a36b5da1e"
      },
      "outputs": [
        {
          "output_type": "execute_result",
          "data": {
            "text/plain": [
              "array([ 0,  3,  6,  9, 12, 15, 18, 21, 24, 27, 30, 33, 36, 39, 42, 45, 48,\n",
              "       51, 54, 57, 60, 63, 66, 69, 72, 75, 78, 81, 84, 87, 90, 93, 96, 99])"
            ]
          },
          "metadata": {},
          "execution_count": 95
        }
      ],
      "source": [
        "# Create an array within a range of 0 and 100 with step 3\n",
        "np.arange(0,100,3)"
      ]
    },
    {
      "cell_type": "code",
      "execution_count": 96,
      "metadata": {
        "id": "eFzHRGMO5Z-_",
        "colab": {
          "base_uri": "https://localhost:8080/"
        },
        "outputId": "a3113e64-17b9-45b6-d13b-ab8ba67db9b6"
      },
      "outputs": [
        {
          "output_type": "stream",
          "name": "stdout",
          "text": [
            "[[1 5 3 5 2]\n",
            " [5 1 1 8 6]\n",
            " [2 0 7 5 6]]\n"
          ]
        }
      ],
      "source": [
        "# Create a random array with numbers between 0 and 10 of size (7, 2)\n",
        "Array = np.random.randint(0, 10, (3, 5))\n",
        "print(Array)"
      ]
    },
    {
      "cell_type": "code",
      "execution_count": 97,
      "metadata": {
        "id": "pQsOjSQO5Z-_",
        "colab": {
          "base_uri": "https://localhost:8080/"
        },
        "outputId": "14920c12-ced0-4c70-8456-96896a59d5ee"
      },
      "outputs": [
        {
          "output_type": "stream",
          "name": "stdout",
          "text": [
            "[[0.00575866 0.32458583 0.36646153 0.39617269 0.69546721]\n",
            " [0.3885581  0.44869362 0.23754413 0.37325179 0.22726963]\n",
            " [0.07319592 0.60344859 0.6682128  0.61949035 0.46349404]]\n"
          ]
        }
      ],
      "source": [
        "# Create a random array of floats between 0 & 1 of shape (3, 5)\n",
        "Array1 = np.random.rand(3, 5)\n",
        "print(Array1)"
      ]
    },
    {
      "cell_type": "code",
      "execution_count": 98,
      "metadata": {
        "colab": {
          "base_uri": "https://localhost:8080/"
        },
        "id": "hjT0H0FH5Z_A",
        "outputId": "315c6e10-c61e-40e9-8622-d4289fb70456"
      },
      "outputs": [
        {
          "output_type": "stream",
          "name": "stdout",
          "text": [
            "[[6 3 7 4 6 9]\n",
            " [2 6 7 4 3 7]\n",
            " [7 2 5 4 1 7]\n",
            " [5 1 4 0 9 5]]\n"
          ]
        }
      ],
      "source": [
        "# Set the random seed to 42\n",
        "np.random.seed(42)\n",
        "# Create a random array of numbers between 0 & 10 of size (4, 6)\n",
        "Array2 = np.random.randint(0, 10, (4, 6))\n",
        "print(Array2)"
      ]
    },
    {
      "cell_type": "markdown",
      "metadata": {
        "id": "9zMpQTSI5Z_A"
      },
      "source": [
        "Run the cell above again, what happens?\n",
        "\n",
        "Are the numbers in the array different or the same? Why do think this is?"
      ]
    },
    {
      "cell_type": "code",
      "execution_count": 100,
      "metadata": {
        "id": "NAOi6nJ85Z_A",
        "colab": {
          "base_uri": "https://localhost:8080/"
        },
        "outputId": "1bb8c9cb-e737-48b2-ce33-da01417af8f6"
      },
      "outputs": [
        {
          "output_type": "stream",
          "name": "stdout",
          "text": [
            "[[7 8 3 1 4 2 8]\n",
            " [4 2 6 6 4 6 2]\n",
            " [2 4 8 7 9 8 5]] \n",
            "\n",
            "[1 2 3 4 5 6 7 8 9]\n"
          ]
        }
      ],
      "source": [
        "# Create an array of random numbers between 1 & 10 of size (3, 7)\n",
        "# and save it to a variable\n",
        "A = np.random.randint(1, 10, (3, 7))\n",
        "print(A, \"\\n\")\n",
        "# Find the unique numbers in the array you just created\n",
        "print(np.unique(A))"
      ]
    },
    {
      "cell_type": "code",
      "execution_count": 102,
      "metadata": {
        "id": "boo6u5ps5Z_A",
        "colab": {
          "base_uri": "https://localhost:8080/"
        },
        "outputId": "82b77b9e-ec17-4cef-8dd4-9eddc4a318ee"
      },
      "outputs": [
        {
          "output_type": "stream",
          "name": "stdout",
          "text": [
            "[7 8 3 1 4 2 8]\n"
          ]
        }
      ],
      "source": [
        "# Find the 0'th index of the latest array you created\n",
        "print(A[0])"
      ]
    },
    {
      "cell_type": "code",
      "execution_count": 103,
      "metadata": {
        "id": "ECY8ka-x5Z_A",
        "colab": {
          "base_uri": "https://localhost:8080/"
        },
        "outputId": "e6141e92-3fee-4391-ce45-7a16780bca7d"
      },
      "outputs": [
        {
          "output_type": "stream",
          "name": "stdout",
          "text": [
            "[[7 8 3 1 4 2 8]\n",
            " [4 2 6 6 4 6 2]]\n"
          ]
        }
      ],
      "source": [
        "# Get the first 2 rows of latest array you created\n",
        "print(A[:2])"
      ]
    },
    {
      "cell_type": "code",
      "execution_count": 104,
      "metadata": {
        "id": "lCoUYSrT5Z_A",
        "colab": {
          "base_uri": "https://localhost:8080/"
        },
        "outputId": "fb0492c7-0ee2-44d8-8f19-55a9746556b5"
      },
      "outputs": [
        {
          "output_type": "stream",
          "name": "stdout",
          "text": [
            "[[7 8]\n",
            " [4 2]]\n"
          ]
        }
      ],
      "source": [
        "# Get the first 2 values of the first 2 rows of the latest array\n",
        "print(A[0:2,0:2])"
      ]
    },
    {
      "cell_type": "code",
      "execution_count": 105,
      "metadata": {
        "id": "tzgFgVqi5Z_A",
        "colab": {
          "base_uri": "https://localhost:8080/"
        },
        "outputId": "74360ae1-ae0b-4c81-c843-d6b329c429cf"
      },
      "outputs": [
        {
          "output_type": "stream",
          "name": "stdout",
          "text": [
            "[[1 4 7 9 8]\n",
            " [8 0 8 6 8]\n",
            " [7 0 7 7 2]] \n",
            "\n",
            "[[1. 1. 1. 1. 1.]\n",
            " [1. 1. 1. 1. 1.]\n",
            " [1. 1. 1. 1. 1.]]\n"
          ]
        }
      ],
      "source": [
        "# Create a random array of numbers between 0 & 10 and an array of ones\n",
        "# both of size (3, 5), save them both to variables\n",
        "a=np.random.randint(0,10,(3,5))\n",
        "b=np.ones((3,5))\n",
        "print(a, \"\\n\")\n",
        "print(b)"
      ]
    },
    {
      "cell_type": "code",
      "execution_count": 106,
      "metadata": {
        "id": "ja5J_prP5Z_A",
        "colab": {
          "base_uri": "https://localhost:8080/"
        },
        "outputId": "2dd808c9-4a5f-40e6-9327-54a8662f1292"
      },
      "outputs": [
        {
          "output_type": "stream",
          "name": "stdout",
          "text": [
            "[ 6  8 10 12]\n"
          ]
        }
      ],
      "source": [
        "# Add the two arrays together\n",
        "x_arr=np.array([1,2,3,4])\n",
        "y_arr=np.array([5,6,7,8])\n",
        "print(x_arr+y_arr)"
      ]
    },
    {
      "cell_type": "code",
      "execution_count": 107,
      "metadata": {
        "id": "Ku5_7oz95Z_A",
        "colab": {
          "base_uri": "https://localhost:8080/"
        },
        "outputId": "c0235a41-ff12-4ee7-fc68-424965e2f1e8"
      },
      "outputs": [
        {
          "output_type": "stream",
          "name": "stdout",
          "text": [
            "[[1. 1. 1.]\n",
            " [1. 1. 1.]\n",
            " [1. 1. 1.]\n",
            " [1. 1. 1.]\n",
            " [1. 1. 1.]]\n"
          ]
        }
      ],
      "source": [
        "# Create another array of ones of shape (5, 3)\n",
        "arrays=np.ones((5,3))\n",
        "print(arrays)"
      ]
    },
    {
      "cell_type": "code",
      "execution_count": 108,
      "metadata": {
        "id": "n5SK0lQN5Z_B",
        "colab": {
          "base_uri": "https://localhost:8080/",
          "height": 158
        },
        "outputId": "5bd5e5d3-e6c0-4f1c-a99a-69729413341c"
      },
      "outputs": [
        {
          "output_type": "error",
          "ename": "ValueError",
          "evalue": "operands could not be broadcast together with shapes (5,3) (3,5) ",
          "traceback": [
            "\u001b[0;31m---------------------------------------------------------------------------\u001b[0m",
            "\u001b[0;31mValueError\u001b[0m                                Traceback (most recent call last)",
            "\u001b[0;32m<ipython-input-108-31e7e1dbd72b>\u001b[0m in \u001b[0;36m<cell line: 0>\u001b[0;34m()\u001b[0m\n\u001b[1;32m      1\u001b[0m \u001b[0;31m# Try add the array of ones and the other most recent array together\u001b[0m\u001b[0;34m\u001b[0m\u001b[0;34m\u001b[0m\u001b[0m\n\u001b[0;32m----> 2\u001b[0;31m \u001b[0mprint\u001b[0m\u001b[0;34m(\u001b[0m\u001b[0marrays\u001b[0m\u001b[0;34m+\u001b[0m\u001b[0ma\u001b[0m\u001b[0;34m)\u001b[0m\u001b[0;34m\u001b[0m\u001b[0;34m\u001b[0m\u001b[0m\n\u001b[0m",
            "\u001b[0;31mValueError\u001b[0m: operands could not be broadcast together with shapes (5,3) (3,5) "
          ]
        }
      ],
      "source": [
        "# Try add the array of ones and the other most recent array together\n",
        "print(arrays+a)"
      ]
    },
    {
      "cell_type": "markdown",
      "metadata": {
        "id": "xolFUw0U5Z_B"
      },
      "source": [
        "When you try the last cell, it produces an error. Why do think this is?\n",
        "\n",
        "How would you fix it?\n",
        "By transposing one of the arrays"
      ]
    },
    {
      "cell_type": "code",
      "source": [
        "print(arrays+a.T)"
      ],
      "metadata": {
        "colab": {
          "base_uri": "https://localhost:8080/"
        },
        "id": "rTFM7oNM-d7m",
        "outputId": "6ca5938b-0ef1-44b1-ce23-d2b70aebcce7"
      },
      "execution_count": 110,
      "outputs": [
        {
          "output_type": "stream",
          "name": "stdout",
          "text": [
            "[[ 2.  9.  8.]\n",
            " [ 5.  1.  1.]\n",
            " [ 8.  9.  8.]\n",
            " [10.  7.  8.]\n",
            " [ 9.  9.  3.]]\n"
          ]
        }
      ]
    },
    {
      "cell_type": "code",
      "execution_count": 111,
      "metadata": {
        "id": "N7bU0mzh5Z_B",
        "colab": {
          "base_uri": "https://localhost:8080/"
        },
        "outputId": "375069f9-30eb-4429-ceb4-5ca1c437126e"
      },
      "outputs": [
        {
          "output_type": "stream",
          "name": "stdout",
          "text": [
            "[[1. 1. 1. 1. 1.]\n",
            " [1. 1. 1. 1. 1.]\n",
            " [1. 1. 1. 1. 1.]]\n"
          ]
        }
      ],
      "source": [
        "# Create another array of ones of shape (3, 5)\n",
        "s_arr= np.ones((3,5))\n",
        "print(s_arr)"
      ]
    },
    {
      "cell_type": "code",
      "execution_count": 113,
      "metadata": {
        "id": "biDVKUfm5Z_B",
        "colab": {
          "base_uri": "https://localhost:8080/"
        },
        "outputId": "39b33745-60de-4245-d7e8-6e8d9ddf5f7d"
      },
      "outputs": [
        {
          "output_type": "stream",
          "name": "stdout",
          "text": [
            "[[ 0.  3.  6.  8.  7.]\n",
            " [ 7. -1.  7.  5.  7.]\n",
            " [ 6. -1.  6.  6.  1.]]\n"
          ]
        }
      ],
      "source": [
        "# Subtract the new array of ones from the other most recent array\n",
        "print(a-s_arr)"
      ]
    },
    {
      "cell_type": "code",
      "execution_count": 115,
      "metadata": {
        "id": "YoCgn9CT5Z_B",
        "colab": {
          "base_uri": "https://localhost:8080/"
        },
        "outputId": "b5a7653b-4969-44a6-f63d-6ec3088dc39c"
      },
      "outputs": [
        {
          "output_type": "stream",
          "name": "stdout",
          "text": [
            "[[1. 4. 7. 9. 8.]\n",
            " [8. 0. 8. 6. 8.]\n",
            " [7. 0. 7. 7. 2.]]\n"
          ]
        }
      ],
      "source": [
        "# Multiply the ones array with the latest array\n",
        "print(a*s_arr)"
      ]
    },
    {
      "cell_type": "code",
      "execution_count": 117,
      "metadata": {
        "id": "jtjQFNBT5Z_B",
        "colab": {
          "base_uri": "https://localhost:8080/"
        },
        "outputId": "754ceb92-493c-476f-cbd7-8cecd3c30739"
      },
      "outputs": [
        {
          "output_type": "stream",
          "name": "stdout",
          "text": [
            "[[ 1 16 49 81 64]\n",
            " [64  0 64 36 64]\n",
            " [49  0 49 49  4]]\n"
          ]
        }
      ],
      "source": [
        "# Take the latest array to the power of 2 using '**'\n",
        "d= a**2\n",
        "print(d)"
      ]
    },
    {
      "cell_type": "code",
      "execution_count": 119,
      "metadata": {
        "id": "ZDcyLhV05Z_B",
        "colab": {
          "base_uri": "https://localhost:8080/"
        },
        "outputId": "a773c6b9-33e9-4b8d-c4d1-65414c381495"
      },
      "outputs": [
        {
          "output_type": "stream",
          "name": "stdout",
          "text": [
            "[[ 1 16 49 81 64]\n",
            " [64  0 64 36 64]\n",
            " [49  0 49 49  4]]\n"
          ]
        }
      ],
      "source": [
        "# Do the same thing with np.square()\n",
        "sq_arr= np.square(a)\n",
        "print(sq_arr)"
      ]
    },
    {
      "cell_type": "code",
      "execution_count": 121,
      "metadata": {
        "id": "1x9UJLwy5Z_B",
        "colab": {
          "base_uri": "https://localhost:8080/"
        },
        "outputId": "d5c7c5bc-398f-4368-89cc-87e2dc901584"
      },
      "outputs": [
        {
          "output_type": "stream",
          "name": "stdout",
          "text": [
            "39.333333333333336\n"
          ]
        }
      ],
      "source": [
        "# Find the mean of the latest array using np.mean()\n",
        "m_arr=np.mean(sq_arr)\n",
        "print(m_arr)"
      ]
    },
    {
      "cell_type": "code",
      "execution_count": 123,
      "metadata": {
        "id": "WzPvXoI_5Z_B",
        "colab": {
          "base_uri": "https://localhost:8080/"
        },
        "outputId": "814e1dd2-bda3-47ff-e5e5-44d395fd343a"
      },
      "outputs": [
        {
          "output_type": "stream",
          "name": "stdout",
          "text": [
            "81\n"
          ]
        }
      ],
      "source": [
        "# Find the maximum of the latest array using np.max()\n",
        "M_arr=np.max(sq_arr)\n",
        "print(M_arr)"
      ]
    },
    {
      "cell_type": "code",
      "execution_count": 125,
      "metadata": {
        "id": "esAOEEas5Z_B",
        "colab": {
          "base_uri": "https://localhost:8080/"
        },
        "outputId": "f2360fba-c65a-4c78-e81a-dba21ed082cc"
      },
      "outputs": [
        {
          "output_type": "stream",
          "name": "stdout",
          "text": [
            "0\n"
          ]
        }
      ],
      "source": [
        "# Find the minimum of the latest array using np.min()\n",
        "n_arr=np.min(sq_arr)\n",
        "print(n_arr)"
      ]
    },
    {
      "cell_type": "code",
      "execution_count": 127,
      "metadata": {
        "id": "U1syCNv15Z_B",
        "colab": {
          "base_uri": "https://localhost:8080/"
        },
        "outputId": "b07a2ce1-c27f-4472-a3ca-63681b50ffd1"
      },
      "outputs": [
        {
          "output_type": "stream",
          "name": "stdout",
          "text": [
            "26.97076606665488\n"
          ]
        }
      ],
      "source": [
        "# Find the standard deviation of the latest array\n",
        "sd_arr = np.std(sq_arr)\n",
        "print(sd_arr)"
      ]
    },
    {
      "cell_type": "code",
      "execution_count": 130,
      "metadata": {
        "id": "2tBrL5N35Z_B",
        "colab": {
          "base_uri": "https://localhost:8080/"
        },
        "outputId": "42b0f39c-d3ee-4397-9701-35bfa5ed25a7"
      },
      "outputs": [
        {
          "output_type": "stream",
          "name": "stdout",
          "text": [
            "727.4222222222223\n"
          ]
        }
      ],
      "source": [
        "# Find the variance of the latest array\n",
        "v_arr=np.var(sq_arr)\n",
        "print(v_arr)"
      ]
    },
    {
      "cell_type": "code",
      "execution_count": 134,
      "metadata": {
        "id": "CxIw36HW5Z_B",
        "colab": {
          "base_uri": "https://localhost:8080/"
        },
        "outputId": "59ddfe19-c35f-485b-c451-17d19d79cb3c"
      },
      "outputs": [
        {
          "output_type": "stream",
          "name": "stdout",
          "text": [
            "[[[ 1]\n",
            "  [16]\n",
            "  [49]\n",
            "  [81]\n",
            "  [64]]\n",
            "\n",
            " [[64]\n",
            "  [ 0]\n",
            "  [64]\n",
            "  [36]\n",
            "  [64]]\n",
            "\n",
            " [[49]\n",
            "  [ 0]\n",
            "  [49]\n",
            "  [49]\n",
            "  [ 4]]]\n"
          ]
        }
      ],
      "source": [
        "# Reshape the latest array to (3, 5, 1)\n",
        "reshape_arr = sq_arr.reshape(3,5,1)\n",
        "print(reshape_arr)"
      ]
    },
    {
      "cell_type": "code",
      "execution_count": 138,
      "metadata": {
        "id": "i0-0QTbb5Z_B",
        "colab": {
          "base_uri": "https://localhost:8080/"
        },
        "outputId": "47e4e6d9-6620-4c11-d6f6-42f8becbc2ef"
      },
      "outputs": [
        {
          "output_type": "stream",
          "name": "stdout",
          "text": [
            "[[[ 1 64 49]\n",
            "  [16  0  0]\n",
            "  [49 64 49]\n",
            "  [81 36 49]\n",
            "  [64 64  4]]]\n"
          ]
        }
      ],
      "source": [
        "# Transpose the latest array\n",
        "trans_arr = reshape_arr.T\n",
        "print(trans_arr)"
      ]
    },
    {
      "cell_type": "markdown",
      "metadata": {
        "id": "gGIPW6bT5Z_C"
      },
      "source": [
        "What does the transpose do?\n",
        "Transpose interchages the rows and columns"
      ]
    },
    {
      "cell_type": "code",
      "execution_count": 140,
      "metadata": {
        "id": "jxHol0fI5Z_C",
        "colab": {
          "base_uri": "https://localhost:8080/"
        },
        "outputId": "52a966db-8ff7-4cb7-d676-a2366938a74b"
      },
      "outputs": [
        {
          "output_type": "stream",
          "name": "stdout",
          "text": [
            "[[6 6 7]\n",
            " [4 2 7]\n",
            " [5 2 0]] \n",
            "\n",
            "[[2 4]\n",
            " [2 0]\n",
            " [4 9]]\n"
          ]
        }
      ],
      "source": [
        "# Create two arrays of random integers between 0 to 10\n",
        "# one of size (3, 3) the other of size (3, 2)\n",
        "Arr1 = np.random.randint(0,10, (3,3))\n",
        "Arr2 = np.random.randint(0,10,(3,2))\n",
        "print(Arr1, \"\\n\")\n",
        "print(Arr2)"
      ]
    },
    {
      "cell_type": "code",
      "execution_count": 142,
      "metadata": {
        "id": "zyikCOn25Z_C",
        "colab": {
          "base_uri": "https://localhost:8080/"
        },
        "outputId": "73af8210-7c77-416c-df41-8e8ac5857179"
      },
      "outputs": [
        {
          "output_type": "stream",
          "name": "stdout",
          "text": [
            "[[52 87]\n",
            " [40 79]\n",
            " [14 20]]\n"
          ]
        }
      ],
      "source": [
        "# Perform a dot product on the two newest arrays you created\n",
        "dot_arr = np.dot(Arr1, Arr2)\n",
        "print(dot_arr)"
      ]
    },
    {
      "cell_type": "code",
      "execution_count": 144,
      "metadata": {
        "id": "0wucLkaH5Z_C",
        "colab": {
          "base_uri": "https://localhost:8080/"
        },
        "outputId": "e0313bfb-24f7-4343-b602-f9d30ef7cb05"
      },
      "outputs": [
        {
          "output_type": "stream",
          "name": "stdout",
          "text": [
            "[[6 8 6]\n",
            " [0 0 8]\n",
            " [8 3 8]\n",
            " [2 6 5]] \n",
            "\n",
            "[[7 8 4]\n",
            " [0 2 9]\n",
            " [7 5 7]\n",
            " [8 3 0]]\n"
          ]
        }
      ],
      "source": [
        "# Create two arrays of random integers between 0 to 10\n",
        "# both of size (4, 3)\n",
        "Arr3 = np.random.randint(0,10,(4,3))\n",
        "Arr4 = np.random.randint(0,10,(4,3))\n",
        "print(Arr3, \"\\n\")\n",
        "print(Arr4)"
      ]
    },
    {
      "cell_type": "code",
      "execution_count": 145,
      "metadata": {
        "id": "ECY8NPuc5Z_G",
        "colab": {
          "base_uri": "https://localhost:8080/",
          "height": 176
        },
        "outputId": "0b2af96b-0405-42e5-8743-503249202f15"
      },
      "outputs": [
        {
          "output_type": "error",
          "ename": "ValueError",
          "evalue": "shapes (4,3) and (4,3) not aligned: 3 (dim 1) != 4 (dim 0)",
          "traceback": [
            "\u001b[0;31m---------------------------------------------------------------------------\u001b[0m",
            "\u001b[0;31mValueError\u001b[0m                                Traceback (most recent call last)",
            "\u001b[0;32m<ipython-input-145-758113936db3>\u001b[0m in \u001b[0;36m<cell line: 0>\u001b[0;34m()\u001b[0m\n\u001b[1;32m      1\u001b[0m \u001b[0;31m# Perform a dot product on the two newest arrays you created\u001b[0m\u001b[0;34m\u001b[0m\u001b[0;34m\u001b[0m\u001b[0m\n\u001b[0;32m----> 2\u001b[0;31m \u001b[0mdot_prod\u001b[0m \u001b[0;34m=\u001b[0m \u001b[0mnp\u001b[0m\u001b[0;34m.\u001b[0m\u001b[0mdot\u001b[0m\u001b[0;34m(\u001b[0m\u001b[0mArr3\u001b[0m\u001b[0;34m,\u001b[0m \u001b[0mArr4\u001b[0m\u001b[0;34m)\u001b[0m\u001b[0;34m\u001b[0m\u001b[0;34m\u001b[0m\u001b[0m\n\u001b[0m\u001b[1;32m      3\u001b[0m \u001b[0mprint\u001b[0m\u001b[0;34m(\u001b[0m\u001b[0mdot_prod\u001b[0m\u001b[0;34m)\u001b[0m\u001b[0;34m\u001b[0m\u001b[0;34m\u001b[0m\u001b[0m\n",
            "\u001b[0;31mValueError\u001b[0m: shapes (4,3) and (4,3) not aligned: 3 (dim 1) != 4 (dim 0)"
          ]
        }
      ],
      "source": [
        "# Perform a dot product on the two newest arrays you created\n",
        "dot_prod = np.dot(Arr3, Arr4)\n",
        "print(dot_prod)"
      ]
    },
    {
      "cell_type": "markdown",
      "metadata": {
        "id": "NqruCtQR5Z_G"
      },
      "source": [
        "It doesn't work. How would you fix it?\n",
        "transpose one of the arrays"
      ]
    },
    {
      "cell_type": "code",
      "execution_count": 147,
      "metadata": {
        "id": "Cu97S1Tt5Z_G",
        "colab": {
          "base_uri": "https://localhost:8080/"
        },
        "outputId": "a38397ee-c149-40bf-ed6b-2531fe32e8f5"
      },
      "outputs": [
        {
          "output_type": "stream",
          "name": "stdout",
          "text": [
            "[[130  70 124  72]\n",
            " [ 32  72  56   0]\n",
            " [112  78 127  73]\n",
            " [ 82  57  79  34]]\n"
          ]
        }
      ],
      "source": [
        "# Take the latest two arrays, perform a transpose on one of them and then perform\n",
        "# a dot product on them both\n",
        "dot_product = np.dot(Arr3, Arr4.T)\n",
        "print(dot_product)"
      ]
    },
    {
      "cell_type": "markdown",
      "metadata": {
        "id": "T70XTGI25Z_H"
      },
      "source": [
        "Notice how performing a transpose allows the dot product to happen.\n",
        "\n",
        "Why is this? The number of columns of the first array must be equal to the number of rows of the second array\n",
        "\n",
        "Checking out the documentation on [`np.dot()`](https://docs.scipy.org/doc/numpy/reference/generated/numpy.dot.html) may help, as well as reading [Math is Fun's guide on the dot product](https://www.mathsisfun.com/algebra/vectors-dot-product.html).\n",
        "\n",
        "Let's now compare arrays."
      ]
    },
    {
      "cell_type": "code",
      "execution_count": 161,
      "metadata": {
        "id": "4d-gjn4Q5Z_H",
        "colab": {
          "base_uri": "https://localhost:8080/"
        },
        "outputId": "6e4aebaf-bfa7-4ffc-97a7-16513948cfe5"
      },
      "outputs": [
        {
          "output_type": "stream",
          "name": "stdout",
          "text": [
            "[[7 0 8]\n",
            " [8 1 6]\n",
            " [9 2 6]] \n",
            "\n",
            "[[9 8 3]\n",
            " [0 1 0]\n",
            " [4 4 6]]\n"
          ]
        }
      ],
      "source": [
        "# Create two arrays of random integers between 0 & 10 of the same shape\n",
        "# and save them to variables\n",
        "arr_x = np.random.randint(0,10,(3,3))\n",
        "arr_y = np.random.randint(0,10,(3,3))\n",
        "print(arr_x, \"\\n\")\n",
        "print(arr_y)"
      ]
    },
    {
      "cell_type": "code",
      "execution_count": 163,
      "metadata": {
        "id": "jkwvL8Sv5Z_H",
        "colab": {
          "base_uri": "https://localhost:8080/"
        },
        "outputId": "04a9b0ab-3975-4063-a894-91c69c2e541d"
      },
      "outputs": [
        {
          "output_type": "stream",
          "name": "stdout",
          "text": [
            "[[False False  True]\n",
            " [ True False  True]\n",
            " [ True False False]]\n"
          ]
        }
      ],
      "source": [
        "# Compare the two arrays with '>'\n",
        "compare = arr_x > arr_y\n",
        "print(compare)"
      ]
    },
    {
      "cell_type": "markdown",
      "metadata": {
        "id": "X5bvg82P5Z_H"
      },
      "source": [
        "What happens when you compare the arrays with `>`?\n",
        "It returns boolean value for the compared value according to the condition"
      ]
    },
    {
      "cell_type": "code",
      "execution_count": 165,
      "metadata": {
        "id": "c3kReji-5Z_H",
        "colab": {
          "base_uri": "https://localhost:8080/"
        },
        "outputId": "edd19d5e-4991-4b0f-ec68-e627d102f7b2"
      },
      "outputs": [
        {
          "output_type": "stream",
          "name": "stdout",
          "text": [
            "[[False False  True]\n",
            " [ True  True  True]\n",
            " [ True False  True]]\n"
          ]
        }
      ],
      "source": [
        "# Compare the two arrays with '>='\n",
        "comparision = arr_x >= arr_y\n",
        "print(comparision)"
      ]
    },
    {
      "cell_type": "code",
      "execution_count": 167,
      "metadata": {
        "id": "C_HX41xf5Z_H",
        "colab": {
          "base_uri": "https://localhost:8080/"
        },
        "outputId": "ed17b24e-18c8-4ff5-86f6-f29c33175b46"
      },
      "outputs": [
        {
          "output_type": "stream",
          "name": "stdout",
          "text": [
            "[[False False  True]\n",
            " [ True False False]\n",
            " [ True False False]]\n"
          ]
        }
      ],
      "source": [
        "# Find which elements of the first array are greater than 7\n",
        "great_arr = arr_x > 7\n",
        "print(great_arr)"
      ]
    },
    {
      "cell_type": "code",
      "execution_count": 169,
      "metadata": {
        "id": "ocJDmtSs5Z_H",
        "colab": {
          "base_uri": "https://localhost:8080/"
        },
        "outputId": "5c651df5-4cf0-4fc8-a100-8faf341a5dd6"
      },
      "outputs": [
        {
          "output_type": "stream",
          "name": "stdout",
          "text": [
            "[[False False False]\n",
            " [False  True False]\n",
            " [False False  True]]\n"
          ]
        }
      ],
      "source": [
        "# Which parts of each array are equal? (try using '==')\n",
        "equal_arr = arr_x == arr_y\n",
        "print(equal_arr)"
      ]
    },
    {
      "cell_type": "code",
      "execution_count": 172,
      "metadata": {
        "id": "1lV5-Uj85Z_H",
        "colab": {
          "base_uri": "https://localhost:8080/"
        },
        "outputId": "6511daa9-80ad-4650-8d97-511dae3fc24d"
      },
      "outputs": [
        {
          "output_type": "stream",
          "name": "stdout",
          "text": [
            "[[0 7 8]\n",
            " [1 6 8]\n",
            " [2 6 9]]\n"
          ]
        }
      ],
      "source": [
        "# Sort one of the arrays you just created in ascending order\n",
        "sort_arr = np.sort(arr_x)\n",
        "print(sort_arr)"
      ]
    },
    {
      "cell_type": "code",
      "execution_count": 175,
      "metadata": {
        "id": "NKuGQ6VL5Z_H",
        "colab": {
          "base_uri": "https://localhost:8080/"
        },
        "outputId": "739e8d5b-240d-47b6-b50d-3d4ec6ee2e93"
      },
      "outputs": [
        {
          "output_type": "stream",
          "name": "stdout",
          "text": [
            "[[1 0 2]\n",
            " [1 2 0]\n",
            " [1 2 0]]\n"
          ]
        }
      ],
      "source": [
        "# Sort the indexes of one of the arrays you just created\n",
        "index_sort = np.argsort(arr_x)\n",
        "print(index_sort)"
      ]
    },
    {
      "cell_type": "code",
      "execution_count": 178,
      "metadata": {
        "id": "WpWaErea5Z_H",
        "colab": {
          "base_uri": "https://localhost:8080/"
        },
        "outputId": "b1a4f27f-7ab4-47d3-c89c-b927e21e2e39"
      },
      "outputs": [
        {
          "output_type": "stream",
          "name": "stdout",
          "text": [
            "6\n"
          ]
        }
      ],
      "source": [
        "# Find the index with the maximum value in one of the arrays you've created\n",
        "max_index = np.argmax(arr_x)\n",
        "print(max_index)"
      ]
    },
    {
      "cell_type": "code",
      "execution_count": 181,
      "metadata": {
        "id": "WYtE_X7M5Z_H",
        "colab": {
          "base_uri": "https://localhost:8080/"
        },
        "outputId": "a8033537-97f7-43de-de54-98b12b2d9dbe"
      },
      "outputs": [
        {
          "output_type": "stream",
          "name": "stdout",
          "text": [
            "1\n"
          ]
        }
      ],
      "source": [
        "# Find the index with the minimum value in one of the arrays you've created\n",
        "min_index = np.argmin(arr_x)\n",
        "print(min_index)"
      ]
    },
    {
      "cell_type": "code",
      "execution_count": 183,
      "metadata": {
        "id": "SZbBu_t15Z_H",
        "colab": {
          "base_uri": "https://localhost:8080/"
        },
        "outputId": "b3d497cc-1642-41b8-9b6f-5c7a86fe568c"
      },
      "outputs": [
        {
          "output_type": "stream",
          "name": "stdout",
          "text": [
            "[2 0 0]\n"
          ]
        }
      ],
      "source": [
        "# Find the indexes with the maximum values down the 1st axis (axis=1)\n",
        "# of one of the arrays you created\n",
        "max_axis1 = np.argmax(arr_x, axis=1)\n",
        "print(max_axis1)"
      ]
    },
    {
      "cell_type": "code",
      "execution_count": 185,
      "metadata": {
        "id": "eQHjmT0f5Z_I",
        "colab": {
          "base_uri": "https://localhost:8080/"
        },
        "outputId": "49a7e5b2-f825-4a2f-953d-2763876b1526"
      },
      "outputs": [
        {
          "output_type": "stream",
          "name": "stdout",
          "text": [
            "[0 0 1]\n"
          ]
        }
      ],
      "source": [
        "# Find the indexes with the minimum values across the 0th axis (axis=0)\n",
        "# of one of the arrays you created\n",
        "min_axis0 = np.argmin(arr_x, axis=0)\n",
        "print(min_axis0)"
      ]
    },
    {
      "cell_type": "code",
      "execution_count": 187,
      "metadata": {
        "id": "iMdiMIYF5Z_I",
        "colab": {
          "base_uri": "https://localhost:8080/"
        },
        "outputId": "7c0e7435-e9f6-4257-812b-51e7a8292b33"
      },
      "outputs": [
        {
          "output_type": "stream",
          "name": "stdout",
          "text": [
            "[[-1.1913035   0.65655361 -0.97468167  0.7870846 ]\n",
            " [ 1.15859558 -0.82068232  0.96337613  0.41278093]\n",
            " [ 0.82206016  1.89679298 -0.24538812 -0.75373616]]\n"
          ]
        }
      ],
      "source": [
        "# Create an array of normally distributed random numbers\n",
        "normal_arr = np.random.randn(3,4)\n",
        "print(normal_arr)"
      ]
    },
    {
      "cell_type": "code",
      "execution_count": 189,
      "metadata": {
        "id": "H_5v58Mi5Z_I",
        "colab": {
          "base_uri": "https://localhost:8080/"
        },
        "outputId": "98c394c2-3bf7-4816-9b39-73bcd5253451"
      },
      "outputs": [
        {
          "output_type": "stream",
          "name": "stdout",
          "text": [
            "[  1.  12.  23.  34.  45.  56.  67.  78.  89. 100.]\n"
          ]
        }
      ],
      "source": [
        "# Create an array with 10 evenly spaced numbers between 1 and 100\n",
        "evenly_arr = np.linspace(1, 100, 10)\n",
        "print(evenly_arr)"
      ]
    },
    {
      "cell_type": "markdown",
      "metadata": {
        "id": "2Gwi9BwO5Z_I"
      },
      "source": [
        "## Extensions\n",
        "\n",
        "For more exercises, check out the [NumPy quickstart tutorial](https://numpy.org/doc/stable/user/quickstart.html). A good practice would be to read through it and for the parts you find interesting, add them into the end of this notebook.\n",
        "\n",
        "Pay particular attention to the section on broadcasting. And most importantly, get hands-on with the code as much as possible. If in dobut, run the code, see what it does.\n",
        "\n",
        "Finally, as always, remember, the best way to learn something new is to try it. And try it relentlessly. If you get interested in some kind of NumPy function, asking yourself, \"I wonder if NumPy could do that?\", go and find out."
      ]
    },
    {
      "cell_type": "markdown",
      "metadata": {
        "id": "MpgxX8Qu5Z_I"
      },
      "source": [
        "\n",
        "\n"
      ]
    },
    {
      "cell_type": "markdown",
      "metadata": {
        "id": "MadW8TR55Z_I"
      },
      "source": [
        "What happens when you try to broadcast a (3,) array with a (4,) array?\n",
        "\n",
        "Explain why this operation might fail and how to fix it.\n",
        "To broadcast arrays, the arrays must have same dimensions and same number of elements. Here (3,) array has 3 elements where as (4,) array has 4 elements. since the dimensions are not equal, it shows error. The error can be avoided by reshaping one of the arrays to make the dimensions equal."
      ]
    },
    {
      "cell_type": "code",
      "source": [
        "broad_arr1 = np.random.randint(0,10,(3,))\n",
        "broad_arr2 = np.random.randint(0,10,(4,))\n",
        "print(broad_arr1)\n",
        "print(broad_arr2, \"\\n\")\n",
        "broad_arr = np.resize(broad_arr1,(4,))\n",
        "print(broad_arr2+broad_arr)"
      ],
      "metadata": {
        "colab": {
          "base_uri": "https://localhost:8080/"
        },
        "id": "9DA_n4zwS2cl",
        "outputId": "e20fe166-6051-497f-947b-5940f21ebbfd"
      },
      "execution_count": 193,
      "outputs": [
        {
          "output_type": "stream",
          "name": "stdout",
          "text": [
            "[4 7 0]\n",
            "[4 2 0 3] \n",
            "\n",
            "[8 9 0 7]\n"
          ]
        }
      ]
    },
    {
      "cell_type": "markdown",
      "metadata": {
        "id": "kwig2R8Y5Z_I"
      },
      "source": [
        "Write a NumPy program to add a 1D array of shape (3,) to a 2D array of shape (2, 3).\n"
      ]
    },
    {
      "cell_type": "code",
      "execution_count": 194,
      "metadata": {
        "id": "CpsVSGw-5Z_I",
        "colab": {
          "base_uri": "https://localhost:8080/"
        },
        "outputId": "2d2f16f1-8f86-4ebd-c8a1-670c512e1c18"
      },
      "outputs": [
        {
          "output_type": "stream",
          "name": "stdout",
          "text": [
            "[[ 30  70 110]\n",
            " [100 110 120]]\n"
          ]
        }
      ],
      "source": [
        "arr_1d = np.array([10,30,50])\n",
        "arr_2d = np.array([[20,40,60],[90,80,70]])\n",
        "sum = arr_1d + arr_2d\n",
        "print(sum)"
      ]
    },
    {
      "cell_type": "markdown",
      "metadata": {
        "id": "D785IMP85Z_I"
      },
      "source": [
        "Add a 1D array [10, 20, 30] to each row of a 2D array [[1, 2, 3], [4, 5, 6], [7, 8, 9]]."
      ]
    },
    {
      "cell_type": "code",
      "source": [
        "Arr_1D = np.array([10,20,30])\n",
        "Arr_2D = np.array([[1, 2, 3], [4, 5, 6], [7, 8, 9]])\n",
        "add = Arr_1D + Arr_2D\n",
        "print(add)"
      ],
      "metadata": {
        "colab": {
          "base_uri": "https://localhost:8080/"
        },
        "id": "L_WfD3bMVKCr",
        "outputId": "d815a5ec-70f2-4259-9ffc-cd58dd82002e"
      },
      "execution_count": 195,
      "outputs": [
        {
          "output_type": "stream",
          "name": "stdout",
          "text": [
            "[[11 22 33]\n",
            " [14 25 36]\n",
            " [17 28 39]]\n"
          ]
        }
      ]
    },
    {
      "cell_type": "markdown",
      "metadata": {
        "id": "BGLDluNj5Z_I"
      },
      "source": [
        "Attempt to add a 1D array [10, 20] to a 2D array [[1, 2, 3], [4, 5, 6]]. Explain the error."
      ]
    },
    {
      "cell_type": "code",
      "source": [
        "Array_1D = np.array([10,20])\n",
        "Array_2D = np.array([[1, 2, 3], [4, 5, 6]])\n",
        "addition = Array_1D + Array_2D\n",
        "print(addition)"
      ],
      "metadata": {
        "colab": {
          "base_uri": "https://localhost:8080/",
          "height": 193
        },
        "id": "EEgEWtGkV9k_",
        "outputId": "e6fcbdaa-611c-4049-a729-0d32a3772d83"
      },
      "execution_count": 196,
      "outputs": [
        {
          "output_type": "error",
          "ename": "ValueError",
          "evalue": "operands could not be broadcast together with shapes (2,) (2,3) ",
          "traceback": [
            "\u001b[0;31m---------------------------------------------------------------------------\u001b[0m",
            "\u001b[0;31mValueError\u001b[0m                                Traceback (most recent call last)",
            "\u001b[0;32m<ipython-input-196-8592d372bd8a>\u001b[0m in \u001b[0;36m<cell line: 0>\u001b[0;34m()\u001b[0m\n\u001b[1;32m      1\u001b[0m \u001b[0mArray_1D\u001b[0m \u001b[0;34m=\u001b[0m \u001b[0mnp\u001b[0m\u001b[0;34m.\u001b[0m\u001b[0marray\u001b[0m\u001b[0;34m(\u001b[0m\u001b[0;34m[\u001b[0m\u001b[0;36m10\u001b[0m\u001b[0;34m,\u001b[0m\u001b[0;36m20\u001b[0m\u001b[0;34m]\u001b[0m\u001b[0;34m)\u001b[0m\u001b[0;34m\u001b[0m\u001b[0;34m\u001b[0m\u001b[0m\n\u001b[1;32m      2\u001b[0m \u001b[0mArray_2D\u001b[0m \u001b[0;34m=\u001b[0m \u001b[0mnp\u001b[0m\u001b[0;34m.\u001b[0m\u001b[0marray\u001b[0m\u001b[0;34m(\u001b[0m\u001b[0;34m[\u001b[0m\u001b[0;34m[\u001b[0m\u001b[0;36m1\u001b[0m\u001b[0;34m,\u001b[0m \u001b[0;36m2\u001b[0m\u001b[0;34m,\u001b[0m \u001b[0;36m3\u001b[0m\u001b[0;34m]\u001b[0m\u001b[0;34m,\u001b[0m \u001b[0;34m[\u001b[0m\u001b[0;36m4\u001b[0m\u001b[0;34m,\u001b[0m \u001b[0;36m5\u001b[0m\u001b[0;34m,\u001b[0m \u001b[0;36m6\u001b[0m\u001b[0;34m]\u001b[0m\u001b[0;34m]\u001b[0m\u001b[0;34m)\u001b[0m\u001b[0;34m\u001b[0m\u001b[0;34m\u001b[0m\u001b[0m\n\u001b[0;32m----> 3\u001b[0;31m \u001b[0maddition\u001b[0m \u001b[0;34m=\u001b[0m \u001b[0mArray_1D\u001b[0m \u001b[0;34m+\u001b[0m \u001b[0mArray_2D\u001b[0m\u001b[0;34m\u001b[0m\u001b[0;34m\u001b[0m\u001b[0m\n\u001b[0m\u001b[1;32m      4\u001b[0m \u001b[0mprint\u001b[0m\u001b[0;34m(\u001b[0m\u001b[0maddition\u001b[0m\u001b[0;34m)\u001b[0m\u001b[0;34m\u001b[0m\u001b[0;34m\u001b[0m\u001b[0m\n",
            "\u001b[0;31mValueError\u001b[0m: operands could not be broadcast together with shapes (2,) (2,3) "
          ]
        }
      ]
    },
    {
      "cell_type": "markdown",
      "source": [
        "The shapes of the two arrays are different hence they cannot be broadcasted together. The shape of the two arrays must be equal for them to be broadcasted together."
      ],
      "metadata": {
        "id": "5VArT8t6WNQP"
      }
    },
    {
      "cell_type": "markdown",
      "metadata": {
        "id": "HYbpGGt75Z_I"
      },
      "source": [
        "Multiply a 2D array [[1, 2], [3, 4]] with a 1D array [10, 20] using broadcasting."
      ]
    },
    {
      "cell_type": "code",
      "source": [
        "array_1D = np.array([10,20])\n",
        "array_2D = np.array([[1,2],[3,4]])\n",
        "product = array_1D * array_2D\n",
        "print(product)"
      ],
      "metadata": {
        "colab": {
          "base_uri": "https://localhost:8080/"
        },
        "id": "KjG0j6n9WqAE",
        "outputId": "67d1a636-81ef-43eb-e8a9-c369fba9df63"
      },
      "execution_count": 198,
      "outputs": [
        {
          "output_type": "stream",
          "name": "stdout",
          "text": [
            "[[10 40]\n",
            " [30 80]]\n"
          ]
        }
      ]
    }
  ],
  "metadata": {
    "kernelspec": {
      "display_name": "Python 3",
      "language": "python",
      "name": "python3"
    },
    "language_info": {
      "codemirror_mode": {
        "name": "ipython",
        "version": 3
      },
      "file_extension": ".py",
      "mimetype": "text/x-python",
      "name": "python",
      "nbconvert_exporter": "python",
      "pygments_lexer": "ipython3",
      "version": "3.8.3"
    },
    "colab": {
      "provenance": []
    }
  },
  "nbformat": 4,
  "nbformat_minor": 0
}